{
 "cells": [
  {
   "cell_type": "markdown",
   "metadata": {},
   "source": [
    "# Section 23\n"
   ]
  },
  {
   "cell_type": "markdown",
   "metadata": {},
   "source": [
    "## Data Viz with Bokeh"
   ]
  },
  {
   "cell_type": "markdown",
   "metadata": {},
   "source": [
    "### Basic Line Plot"
   ]
  },
  {
   "cell_type": "code",
   "execution_count": 1,
   "metadata": {},
   "outputs": [],
   "source": [
    "from bokeh.plotting import figure, output_file, show\n"
   ]
  },
  {
   "cell_type": "code",
   "execution_count": 2,
   "metadata": {},
   "outputs": [],
   "source": [
    "x = [10,20,30,40,50,60,70,80,90]\n",
    "y = [11,12,14,16,17,18,19,21,23]"
   ]
  },
  {
   "cell_type": "code",
   "execution_count": 5,
   "metadata": {},
   "outputs": [],
   "source": [
    "output_file(\"line.html\")\n",
    "\n",
    "p = figure(title = 'Basic Line Plot', \n",
    "           x_axis_label = 'x-axis', y_axis_label = 'y-axis')\n",
    "p.line(x,y,legend_label = \"Price\", line_width=3)\n",
    "show(p)"
   ]
  },
  {
   "cell_type": "markdown",
   "metadata": {},
   "source": [
    "### Bar Plot"
   ]
  },
  {
   "cell_type": "code",
   "execution_count": 6,
   "metadata": {},
   "outputs": [],
   "source": [
    "#Importing the necessary modules and tools\n",
    "from bokeh.models import ColumnDataSource\n",
    "from bokeh.palettes import Spectral10\n",
    "from bokeh.plotting import figure, output_file, show\n",
    "from bokeh.transform import factor_cmap\n",
    " \n",
    "import pandas\n",
    " \n",
    "#Reading the Excel data into a Pandas dataframe\n",
    "top10 = pandas.read_excel(\"/Users/lorisegovia/Downloads/top10.xlsx\")\n",
    " \n",
    "#Creating the output HTML file in the current folder\n",
    "output_file(\"bar.html\")\n",
    " \n",
    "#Referencing the two columns that contain the necessary data\n",
    "language = top10[\"Language\"]\n",
    "rating = top10[\"Ratings\"]\n",
    " \n",
    "#At the most basic level, a ColumnDataSource is simply a mapping between column names and lists of data.\n",
    "#The ColumnDataSource takes a data parameter which is a dict, \n",
    "#with string column names as keys and lists (or arrays) of data values as values. \n",
    "#If one positional argument is passed in to the ColumnDataSource initializer, it will be taken as data.\n",
    "#Once the ColumnDataSource has been created, it can be passed into the source parameter of plotting methods\n",
    "#which allows you to pass a column’s name as a stand in for the data values\n",
    "#Source: https://bokeh.pydata.org/en/latest/docs/user_guide/data.html#columndatasource\n",
    "source = ColumnDataSource(data = dict(language = language, rating = rating))\n",
    " \n",
    "#Creating a new plot with various optional parameters\n",
    "#Ranges: https://bokeh.pydata.org/en/latest/docs/user_guide/plotting.html#setting-ranges\n",
    "p = figure(x_range = language, plot_height = 800, toolbar_location = None, title = \"Top 10 Programming Languages\")\n",
    " \n",
    "#Drawing the vertical bars and setting visual properties\n",
    "#vbar: https://bokeh.pydata.org/en/latest/docs/reference/models/glyphs/vbar.html\n",
    "#factor_cmap: https://bokeh.pydata.org/en/latest/docs/reference/transform.html#bokeh.transform.factor_cmap\n",
    "p.vbar(x = 'language', top = 'rating', width = 0.7, source = source, legend_label = \"Languages\",\n",
    "       line_color = 'white', fill_color = factor_cmap('language', palette = Spectral10, factors = language))\n",
    " \n",
    "#Setting other optional parameters\n",
    "p.xgrid.grid_line_color = None\n",
    "p.y_range.start = 0\n",
    "p.y_range.end = 16\n",
    "p.legend.orientation = \"horizontal\"\n",
    "p.legend.location = \"top_right\"\n",
    " \n",
    "#Displaying the final result\n",
    "show(p)"
   ]
  },
  {
   "cell_type": "markdown",
   "metadata": {},
   "source": [
    "### Pie Chart"
   ]
  },
  {
   "cell_type": "code",
   "execution_count": 7,
   "metadata": {},
   "outputs": [],
   "source": [
    "#Importing the necessary modules and tools\n",
    "from math import pi\n",
    " \n",
    "import pandas\n",
    " \n",
    "from bokeh.palettes import Category20c\n",
    "from bokeh.plotting import figure, output_file, show\n",
    "from bokeh.transform import cumsum\n",
    " \n",
    "#Creating the output HTML file in the current folder\n",
    "output_file(\"pie.html\")\n",
    " \n",
    "#Reading the CSV data into a Pandas dataframe\n",
    "data = pandas.read_csv(\"/Users/lorisegovia/Downloads/countries.csv\")\n",
    " \n",
    "#Referencing the two columns that contain the necessary data\n",
    "country = data[\"Country\"]\n",
    "population = data[\"Population\"]\n",
    " \n",
    "#Configuring the pie wedge size based on the Population value\n",
    "data['angle'] = data['Population'] / data['Population'].sum() * (2 * pi)\n",
    " \n",
    "#Configuring the colors to use for each wedge\n",
    "data['color'] = Category20c[len(data)]\n",
    " \n",
    "#Creating a new plot with various optional parameters\n",
    "p = figure(plot_height = 400, title = \"Top 10 Countries by Population\", toolbar_location = None,\n",
    "           tools = \"hover\", tooltips = \"@Country: @Population\", x_range = (-0.5, 1.0))\n",
    " \n",
    "#Configuring wedge visual properties\n",
    "#wedge: https://bokeh.pydata.org/en/latest/docs/reference/models/glyphs/wedge.html\n",
    "#cumsum: https://bokeh.pydata.org/en/latest/docs/reference/transform.html#bokeh.transform.cumsum\n",
    "p.wedge(x = 0, y = 1, radius = 0.4,\n",
    "        start_angle = cumsum('angle', include_zero = True), end_angle = cumsum('angle'),\n",
    "        line_color = \"white\", fill_color = 'color', legend_field = 'Country', source = data)\n",
    " \n",
    "#Setting other optional parameters\n",
    "p.axis.axis_label = None\n",
    "p.axis.visible = False\n",
    "p.grid.grid_line_color = None\n",
    " \n",
    "#Displaying the final result\n",
    "show(p)"
   ]
  },
  {
   "cell_type": "markdown",
   "metadata": {},
   "source": [
    "### Stock Price Vizzes"
   ]
  },
  {
   "cell_type": "code",
   "execution_count": 9,
   "metadata": {},
   "outputs": [
    {
     "name": "stdout",
     "output_type": "stream",
     "text": [
      "Creating /Users/lorisegovia/.bokeh directory\n",
      "Creating /Users/lorisegovia/.bokeh/data directory\n",
      "Using data directory: /Users/lorisegovia/.bokeh/data\n",
      "Downloading: CGM.csv (1589982 bytes)\n",
      "   1589982 [100.00%]\n",
      "Downloading: US_Counties.zip (3171836 bytes)\n",
      "   3171836 [100.00%]\n",
      "Unpacking: US_Counties.csv\n",
      "Downloading: us_cities.json (713565 bytes)\n",
      "    713565 [100.00%]\n",
      "Downloading: unemployment09.csv (253301 bytes)\n",
      "    253301 [100.00%]\n",
      "Downloading: AAPL.csv (166698 bytes)\n",
      "    166698 [100.00%]\n",
      "Downloading: FB.csv (9706 bytes)\n",
      "      9706 [100.00%]\n",
      "Downloading: GOOG.csv (113894 bytes)\n",
      "    113894 [100.00%]\n",
      "Downloading: IBM.csv (165625 bytes)\n",
      "    165625 [100.00%]\n",
      "Downloading: MSFT.csv (161614 bytes)\n",
      "    161614 [100.00%]\n",
      "Downloading: WPP2012_SA_DB03_POPULATION_QUINQUENNIAL.zip (4816256 bytes)\n",
      "   4816256 [100.00%]\n",
      "Unpacking: WPP2012_SA_DB03_POPULATION_QUINQUENNIAL.csv\n",
      "Downloading: gapminder_fertility.csv (64346 bytes)\n",
      "     64346 [100.00%]\n",
      "Downloading: gapminder_population.csv (94509 bytes)\n",
      "     94509 [100.00%]\n",
      "Downloading: gapminder_life_expectancy.csv (73243 bytes)\n",
      "     73243 [100.00%]\n",
      "Downloading: gapminder_regions.csv (7781 bytes)\n",
      "      7781 [100.00%]\n",
      "Downloading: world_cities.zip (645274 bytes)\n",
      "    645274 [100.00%]\n",
      "Unpacking: world_cities.csv\n",
      "Downloading: airports.json (6373 bytes)\n",
      "      6373 [100.00%]\n",
      "Downloading: movies.db.zip (5053420 bytes)\n",
      "   5053420 [100.00%]\n",
      "Unpacking: movies.db\n",
      "Downloading: airports.csv (203190 bytes)\n",
      "    203190 [100.00%]\n",
      "Downloading: routes.csv (377280 bytes)\n",
      "    377280 [100.00%]\n",
      "Downloading: haarcascade_frontalface_default.xml (930127 bytes)\n",
      "    930127 [100.00%]\n"
     ]
    }
   ],
   "source": [
    "## Stock Vizzes\n",
    "import bokeh.sampledata\n",
    "bokeh.sampledata.download()\n",
    " \n",
    "#Importing the necessary modules and tools\n",
    "import numpy as np\n",
    " \n",
    "from bokeh.plotting import figure, show, output_file\n",
    "from bokeh.sampledata.stocks import AAPL, GOOG, IBM, MSFT\n",
    " \n",
    "#Function for converting dates to the proper format\n",
    "def datetime(x):\n",
    "    return np.array(x, dtype = np.datetime64)\n",
    " \n",
    "#Creating a new plot with various optional parameters\n",
    "p = figure(x_axis_type = \"datetime\", title = \"Stock Prices\")\n",
    " \n",
    "#Setting other optional parameters\n",
    "p.grid.grid_line_alpha = 0.3\n",
    "p.xaxis.axis_label = 'Date'\n",
    "p.yaxis.axis_label = 'Price'\n",
    " \n",
    "#Converting dates to the proper format and drawing the lines\n",
    "p.line(datetime(AAPL['date']), AAPL['adj_close'], color = '#A6CEE3', legend_label = 'AAPL')\n",
    "p.line(datetime(GOOG['date']), GOOG['adj_close'], color = '#B2DF8A', legend_label = 'GOOG')\n",
    "p.line(datetime(IBM['date']), IBM['adj_close'], color = '#33A02C', legend_label = 'IBM')\n",
    "p.line(datetime(MSFT['date']), MSFT['adj_close'], color = '#FB9A99', legend_label = 'MSFT')\n",
    " \n",
    "#Setting the location of the legend on the plot\n",
    "p.legend.location = \"top_left\"\n",
    " \n",
    "#Creating the output HTML file in the current folder\n",
    "output_file(\"stocks.html\", title = \"Stocks Comparison\")\n",
    " \n",
    "#Displaying the final result\n",
    "show(p)\n"
   ]
  },
  {
   "cell_type": "code",
   "execution_count": null,
   "metadata": {},
   "outputs": [],
   "source": []
  },
  {
   "cell_type": "code",
   "execution_count": null,
   "metadata": {},
   "outputs": [],
   "source": []
  },
  {
   "cell_type": "code",
   "execution_count": null,
   "metadata": {},
   "outputs": [],
   "source": []
  },
  {
   "cell_type": "code",
   "execution_count": null,
   "metadata": {},
   "outputs": [],
   "source": []
  },
  {
   "cell_type": "code",
   "execution_count": null,
   "metadata": {},
   "outputs": [],
   "source": []
  },
  {
   "cell_type": "code",
   "execution_count": null,
   "metadata": {},
   "outputs": [],
   "source": []
  },
  {
   "cell_type": "code",
   "execution_count": null,
   "metadata": {},
   "outputs": [],
   "source": []
  },
  {
   "cell_type": "code",
   "execution_count": null,
   "metadata": {},
   "outputs": [],
   "source": []
  },
  {
   "cell_type": "code",
   "execution_count": null,
   "metadata": {},
   "outputs": [],
   "source": []
  },
  {
   "cell_type": "code",
   "execution_count": null,
   "metadata": {},
   "outputs": [],
   "source": []
  },
  {
   "cell_type": "code",
   "execution_count": null,
   "metadata": {},
   "outputs": [],
   "source": []
  },
  {
   "cell_type": "code",
   "execution_count": null,
   "metadata": {},
   "outputs": [],
   "source": []
  },
  {
   "cell_type": "code",
   "execution_count": null,
   "metadata": {},
   "outputs": [],
   "source": []
  },
  {
   "cell_type": "code",
   "execution_count": null,
   "metadata": {},
   "outputs": [],
   "source": []
  },
  {
   "cell_type": "code",
   "execution_count": null,
   "metadata": {},
   "outputs": [],
   "source": []
  },
  {
   "cell_type": "code",
   "execution_count": null,
   "metadata": {},
   "outputs": [],
   "source": []
  },
  {
   "cell_type": "code",
   "execution_count": null,
   "metadata": {},
   "outputs": [],
   "source": []
  }
 ],
 "metadata": {
  "kernelspec": {
   "display_name": "Python 3",
   "language": "python",
   "name": "python3"
  },
  "language_info": {
   "codemirror_mode": {
    "name": "ipython",
    "version": 3
   },
   "file_extension": ".py",
   "mimetype": "text/x-python",
   "name": "python",
   "nbconvert_exporter": "python",
   "pygments_lexer": "ipython3",
   "version": "3.8.5"
  }
 },
 "nbformat": 4,
 "nbformat_minor": 4
}
