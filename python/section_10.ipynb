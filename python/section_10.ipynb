{
 "cells": [
  {
   "cell_type": "markdown",
   "metadata": {},
   "source": [
    "# Section 10"
   ]
  },
  {
   "cell_type": "markdown",
   "metadata": {},
   "source": [
    "## Conditionals"
   ]
  },
  {
   "cell_type": "markdown",
   "metadata": {},
   "source": [
    "### IF statement"
   ]
  },
  {
   "cell_type": "code",
   "execution_count": 1,
   "metadata": {},
   "outputs": [],
   "source": [
    "x = 10"
   ]
  },
  {
   "cell_type": "code",
   "execution_count": 4,
   "metadata": {},
   "outputs": [
    {
     "name": "stdout",
     "output_type": "stream",
     "text": [
      "x is greater than 5\n",
      "20\n"
     ]
    }
   ],
   "source": [
    "if x > 5:\n",
    "    print(\"x is greater than 5\")\n",
    "    print(x * 2)\n",
    "elif x == 5:\n",
    "    print(\"x is equal to 5\")\n",
    "else:\n",
    "    print(\"x is not greater than 5\")"
   ]
  },
  {
   "cell_type": "markdown",
   "metadata": {},
   "source": [
    "### For Loops"
   ]
  },
  {
   "cell_type": "code",
   "execution_count": 5,
   "metadata": {},
   "outputs": [],
   "source": [
    "vendors = [\"cisco\", \"hp\", \"nortel\", \"avaya\", \"juniper\"]"
   ]
  },
  {
   "cell_type": "code",
   "execution_count": 6,
   "metadata": {},
   "outputs": [
    {
     "name": "stdout",
     "output_type": "stream",
     "text": [
      "cisco\n",
      "hp\n",
      "nortel\n",
      "avaya\n",
      "juniper\n"
     ]
    }
   ],
   "source": [
    "for each_vendor in vendors:\n",
    "    print(each_vendor)"
   ]
  },
  {
   "cell_type": "code",
   "execution_count": 7,
   "metadata": {},
   "outputs": [
    {
     "name": "stdout",
     "output_type": "stream",
     "text": [
      "l\n",
      "ll\n",
      "lll\n",
      "a\n",
      "aa\n",
      "aaa\n",
      "d\n",
      "dd\n",
      "ddd\n",
      "y\n",
      "yy\n",
      "yyy\n",
      " \n",
      "  \n",
      "   \n",
      "g\n",
      "gg\n",
      "ggg\n",
      "a\n",
      "aa\n",
      "aaa\n",
      "g\n",
      "gg\n",
      "ggg\n",
      "a\n",
      "aa\n",
      "aaa\n"
     ]
    }
   ],
   "source": [
    "string = \"lady gaga\"\n",
    "for letter in string:\n",
    "    print(letter)\n",
    "    print(letter * 2)\n",
    "    print(letter * 3)"
   ]
  },
  {
   "cell_type": "code",
   "execution_count": 9,
   "metadata": {},
   "outputs": [
    {
     "name": "stdout",
     "output_type": "stream",
     "text": [
      "0\n",
      "2\n",
      "4\n",
      "6\n",
      "8\n",
      "10\n",
      "12\n",
      "14\n",
      "16\n",
      "18\n"
     ]
    }
   ],
   "source": [
    "# for loop iterates over the range\n",
    "r = range(10)\n",
    "for i in r:\n",
    "    print(i*2)"
   ]
  },
  {
   "cell_type": "code",
   "execution_count": 10,
   "metadata": {},
   "outputs": [
    {
     "data": {
      "text/plain": [
       "5"
      ]
     },
     "execution_count": 10,
     "metadata": {},
     "output_type": "execute_result"
    }
   ],
   "source": [
    "# iterate over list indexes\n",
    "vendors = [\"cisco\", \"hp\", \"nortel\", \"avaya\", \"juniper\"]\n",
    "len(vendors)"
   ]
  },
  {
   "cell_type": "code",
   "execution_count": 11,
   "metadata": {},
   "outputs": [
    {
     "data": {
      "text/plain": [
       "[0, 1, 2, 3, 4]"
      ]
     },
     "execution_count": 11,
     "metadata": {},
     "output_type": "execute_result"
    }
   ],
   "source": [
    "list(range(5))"
   ]
  },
  {
   "cell_type": "code",
   "execution_count": 12,
   "metadata": {},
   "outputs": [
    {
     "name": "stdout",
     "output_type": "stream",
     "text": [
      "cisco\n",
      "hp\n",
      "nortel\n",
      "avaya\n",
      "juniper\n"
     ]
    }
   ],
   "source": [
    "for element_index in range(len(vendors)):\n",
    "    print(vendors[element_index])"
   ]
  },
  {
   "cell_type": "code",
   "execution_count": 13,
   "metadata": {},
   "outputs": [
    {
     "name": "stdout",
     "output_type": "stream",
     "text": [
      "0 cisco\n",
      "1 hp\n",
      "2 nortel\n",
      "3 avaya\n",
      "4 juniper\n"
     ]
    }
   ],
   "source": [
    "for index, element in enumerate(vendors):\n",
    "    print(index, element)"
   ]
  },
  {
   "cell_type": "code",
   "execution_count": 14,
   "metadata": {},
   "outputs": [
    {
     "name": "stdout",
     "output_type": "stream",
     "text": [
      "cisco\n",
      "hp\n",
      "nortel\n",
      "avaya\n",
      "juniper\n",
      "the end of the list has been reached\n"
     ]
    }
   ],
   "source": [
    "for element in vendors:\n",
    "    print(element)\n",
    "else:\n",
    "    print(\"the end of the list has been reached\")"
   ]
  },
  {
   "cell_type": "markdown",
   "metadata": {},
   "source": [
    "### While Loops"
   ]
  },
  {
   "cell_type": "code",
   "execution_count": 15,
   "metadata": {},
   "outputs": [],
   "source": [
    "x = 1"
   ]
  },
  {
   "cell_type": "code",
   "execution_count": 17,
   "metadata": {},
   "outputs": [
    {
     "name": "stdout",
     "output_type": "stream",
     "text": [
      "x is now greater than 10\n"
     ]
    }
   ],
   "source": [
    "while x <= 10:\n",
    "    print(x)\n",
    "    x = x + 1\n",
    "else:\n",
    "    print(\"x is now greater than 10\")"
   ]
  },
  {
   "cell_type": "markdown",
   "metadata": {},
   "source": [
    "### Nesting"
   ]
  },
  {
   "cell_type": "code",
   "execution_count": 18,
   "metadata": {},
   "outputs": [
    {
     "name": "stdout",
     "output_type": "stream",
     "text": [
      "cisco 5\n"
     ]
    }
   ],
   "source": [
    "x = \"cisco\"\n",
    "if \"i\" in x:\n",
    "    if len(x) > 3:\n",
    "        print(x, len(x))"
   ]
  },
  {
   "cell_type": "code",
   "execution_count": 19,
   "metadata": {},
   "outputs": [],
   "source": [
    "list1 = [4, 5, 6]\n",
    "list2 = [10, 20, 30]"
   ]
  },
  {
   "cell_type": "code",
   "execution_count": 21,
   "metadata": {},
   "outputs": [
    {
     "name": "stdout",
     "output_type": "stream",
     "text": [
      "40\n",
      "80\n",
      "120\n",
      "4\n",
      "50\n",
      "100\n",
      "150\n",
      "5\n",
      "60\n",
      "120\n",
      "180\n",
      "6\n"
     ]
    }
   ],
   "source": [
    "for i in list1:\n",
    "    for j in list2:\n",
    "        print(i * j)\n",
    "    print(i)"
   ]
  },
  {
   "cell_type": "code",
   "execution_count": 22,
   "metadata": {},
   "outputs": [
    {
     "name": "stdout",
     "output_type": "stream",
     "text": [
      "5\n",
      "6\n",
      "7\n",
      "8\n",
      "9\n"
     ]
    }
   ],
   "source": [
    "for number in range(10):\n",
    "    if 5 <= number <= 9:\n",
    "        print(number)"
   ]
  },
  {
   "cell_type": "markdown",
   "metadata": {},
   "source": [
    "### Break, Continue, Pass"
   ]
  },
  {
   "cell_type": "code",
   "execution_count": 23,
   "metadata": {},
   "outputs": [
    {
     "name": "stdout",
     "output_type": "stream",
     "text": [
      "0\n",
      "1\n",
      "2\n",
      "3\n",
      "4\n",
      "5\n",
      "6\n"
     ]
    }
   ],
   "source": [
    "# break will break out of loop if condition is true, stops the execution of loop\n",
    "for number in range(10):\n",
    "    if number == 7:\n",
    "        break\n",
    "    print(number)"
   ]
  },
  {
   "cell_type": "code",
   "execution_count": 25,
   "metadata": {},
   "outputs": [
    {
     "name": "stdout",
     "output_type": "stream",
     "text": [
      "40\n",
      "outside the nested loop\n",
      "50\n",
      "outside the nested loop\n",
      "60\n",
      "outside the nested loop\n"
     ]
    }
   ],
   "source": [
    "list1 = [4, 5, 6]\n",
    "list2 = [10, 20, 30]\n",
    "\n",
    "for i in list1:\n",
    "    for j in list2:\n",
    "        if j == 20:\n",
    "            break\n",
    "        print(i * j)\n",
    "    print(\"outside the nested loop\")"
   ]
  },
  {
   "cell_type": "code",
   "execution_count": 26,
   "metadata": {},
   "outputs": [
    {
     "name": "stdout",
     "output_type": "stream",
     "text": [
      "40\n",
      "120\n",
      "outside the nested loop\n",
      "50\n",
      "150\n",
      "outside the nested loop\n",
      "60\n",
      "180\n",
      "outside the nested loop\n"
     ]
    }
   ],
   "source": [
    "list1 = [4, 5, 6]\n",
    "list2 = [10, 20, 30]\n",
    "\n",
    "for i in list1:\n",
    "    for j in list2:\n",
    "        if j == 20:\n",
    "            continue\n",
    "        print(i * j)\n",
    "    print(\"outside the nested loop\")"
   ]
  },
  {
   "cell_type": "code",
   "execution_count": null,
   "metadata": {},
   "outputs": [],
   "source": [
    "for i in range(10):\n",
    "    pass #helps keep it valid so it doesnt throw error until you design it later on"
   ]
  },
  {
   "cell_type": "markdown",
   "metadata": {},
   "source": [
    "### Exceptions"
   ]
  },
  {
   "cell_type": "code",
   "execution_count": 27,
   "metadata": {},
   "outputs": [
    {
     "ename": "SyntaxError",
     "evalue": "invalid syntax (<ipython-input-27-9bf3d452bb2a>, line 1)",
     "output_type": "error",
     "traceback": [
      "\u001b[0;36m  File \u001b[0;32m\"<ipython-input-27-9bf3d452bb2a>\"\u001b[0;36m, line \u001b[0;32m1\u001b[0m\n\u001b[0;31m    for i in range(10)\u001b[0m\n\u001b[0m                      ^\u001b[0m\n\u001b[0;31mSyntaxError\u001b[0m\u001b[0;31m:\u001b[0m invalid syntax\n"
     ]
    }
   ],
   "source": [
    "#error in python\n",
    "for i in range(10)"
   ]
  },
  {
   "cell_type": "code",
   "execution_count": 28,
   "metadata": {},
   "outputs": [
    {
     "ename": "NameError",
     "evalue": "name 'rnge' is not defined",
     "output_type": "error",
     "traceback": [
      "\u001b[0;31m---------------------------------------------------------------------------\u001b[0m",
      "\u001b[0;31mNameError\u001b[0m                                 Traceback (most recent call last)",
      "\u001b[0;32m<ipython-input-28-9ed83ef49600>\u001b[0m in \u001b[0;36m<module>\u001b[0;34m\u001b[0m\n\u001b[1;32m      1\u001b[0m \u001b[0;31m#error in the flow of program\u001b[0m\u001b[0;34m\u001b[0m\u001b[0;34m\u001b[0m\u001b[0;34m\u001b[0m\u001b[0m\n\u001b[0;32m----> 2\u001b[0;31m \u001b[0;32mfor\u001b[0m \u001b[0mi\u001b[0m \u001b[0;32min\u001b[0m \u001b[0mrnge\u001b[0m\u001b[0;34m(\u001b[0m\u001b[0;36m10\u001b[0m\u001b[0;34m)\u001b[0m\u001b[0;34m:\u001b[0m\u001b[0;34m\u001b[0m\u001b[0;34m\u001b[0m\u001b[0m\n\u001b[0m\u001b[1;32m      3\u001b[0m     \u001b[0mprint\u001b[0m\u001b[0;34m(\u001b[0m\u001b[0mi\u001b[0m\u001b[0;34m)\u001b[0m\u001b[0;34m\u001b[0m\u001b[0;34m\u001b[0m\u001b[0m\n",
      "\u001b[0;31mNameError\u001b[0m: name 'rnge' is not defined"
     ]
    }
   ],
   "source": [
    "#error in the flow of program\n",
    "#misspelled name of function or variable\n",
    "for i in rnge(10):\n",
    "    print(i)"
   ]
  },
  {
   "cell_type": "markdown",
   "metadata": {},
   "source": [
    "### Try/Except/Else/Finally"
   ]
  },
  {
   "cell_type": "code",
   "execution_count": 30,
   "metadata": {},
   "outputs": [
    {
     "name": "stdout",
     "output_type": "stream",
     "text": [
      "division by zero --> Division by 0 is not allowed\n",
      "division by zero --> Division by 0 is not allowed\n",
      "division by zero --> Division by 0 is not allowed\n",
      "division by zero --> Division by 0 is not allowed\n",
      "division by zero --> Division by 0 is not allowed\n"
     ]
    }
   ],
   "source": [
    "for i in range(5):\n",
    "    try: #try to execute the code\n",
    "        print(i / 0)\n",
    "    except ZeroDivisionError as e:\n",
    "        print(e, \"--> Division by 0 is not allowed\")"
   ]
  },
  {
   "cell_type": "code",
   "execution_count": 35,
   "metadata": {},
   "outputs": [
    {
     "name": "stdout",
     "output_type": "stream",
     "text": [
      "10000000000\n"
     ]
    }
   ],
   "source": [
    "x=10\n",
    "if x < 10:\n",
    "    for i in range(1, 5):\n",
    "        print(x * i)\n",
    "elif x > 10:\n",
    "    j = 1\n",
    "    while j < 5:\n",
    "        print(x * j)\n",
    "        j = j + 1\n",
    "else:\n",
    "    print(x ** 10)"
   ]
  },
  {
   "cell_type": "code",
   "execution_count": 36,
   "metadata": {},
   "outputs": [
    {
     "name": "stdout",
     "output_type": "stream",
     "text": [
      "Hello Python Hello Python Hello Python !\n"
     ]
    }
   ],
   "source": [
    "x = \"Hello Python\"\n",
    "\n",
    "if x.startswith(\"H\") and len(x) > 12:\n",
    "\n",
    "\tprint(\"'/'.join(x[:7])\")\n",
    "\n",
    "elif x[:-1] == \"n\" and len(x.split('o')) >= 3:\n",
    "\n",
    "\tfor i in x.strip('n'):\n",
    "\n",
    "\t    print(i * 2)\n",
    "\n",
    "else:\n",
    "\n",
    "\tprint((x + ' ') * 3 + \"!\")"
   ]
  },
  {
   "cell_type": "code",
   "execution_count": 37,
   "metadata": {},
   "outputs": [
    {
     "name": "stdout",
     "output_type": "stream",
     "text": [
      "o python\n"
     ]
    }
   ],
   "source": [
    "x = \"Hello Python\"\n",
    "\n",
    "if x.startswith(\"H\") and len(x) > 12:\n",
    "\n",
    "\tprint(\"'/'.join(x[:7])\")\n",
    "\n",
    "elif x[-1] == \"n\" and len(x.split('o')) >= 3:\n",
    "\n",
    "    print(x.lower()[4:])\n",
    "\n",
    "else:\n",
    "\n",
    "\tprint((x + ' ') * 3 + \"!\")"
   ]
  },
  {
   "cell_type": "code",
   "execution_count": 38,
   "metadata": {},
   "outputs": [
    {
     "name": "stdout",
     "output_type": "stream",
     "text": [
      "H/e/l/l/o/ /P\n"
     ]
    }
   ],
   "source": [
    "x = \"Hello Python\"\n",
    "\n",
    "if x.startswith(\"H\") or len(x) > 12:\n",
    "\n",
    "\tprint('/'.join(x[:7]))\n",
    "\n",
    "elif x[-1] == \"n\" and len(x.split('o')) >= 3:\n",
    "\n",
    "    print(x.lower()[4:])\n",
    "\n",
    "else:\n",
    "\n",
    "\tprint((x + ' ') * 3 + \"!\")"
   ]
  },
  {
   "cell_type": "code",
   "execution_count": null,
   "metadata": {},
   "outputs": [],
   "source": []
  },
  {
   "cell_type": "code",
   "execution_count": null,
   "metadata": {},
   "outputs": [],
   "source": []
  },
  {
   "cell_type": "code",
   "execution_count": null,
   "metadata": {},
   "outputs": [],
   "source": []
  },
  {
   "cell_type": "code",
   "execution_count": null,
   "metadata": {},
   "outputs": [],
   "source": []
  },
  {
   "cell_type": "code",
   "execution_count": null,
   "metadata": {},
   "outputs": [],
   "source": []
  },
  {
   "cell_type": "code",
   "execution_count": null,
   "metadata": {},
   "outputs": [],
   "source": []
  },
  {
   "cell_type": "code",
   "execution_count": null,
   "metadata": {},
   "outputs": [],
   "source": []
  },
  {
   "cell_type": "code",
   "execution_count": null,
   "metadata": {},
   "outputs": [],
   "source": []
  },
  {
   "cell_type": "code",
   "execution_count": null,
   "metadata": {},
   "outputs": [],
   "source": []
  },
  {
   "cell_type": "code",
   "execution_count": null,
   "metadata": {},
   "outputs": [],
   "source": []
  },
  {
   "cell_type": "code",
   "execution_count": null,
   "metadata": {},
   "outputs": [],
   "source": []
  },
  {
   "cell_type": "code",
   "execution_count": null,
   "metadata": {},
   "outputs": [],
   "source": []
  },
  {
   "cell_type": "code",
   "execution_count": null,
   "metadata": {},
   "outputs": [],
   "source": []
  }
 ],
 "metadata": {
  "kernelspec": {
   "display_name": "Python 3",
   "language": "python",
   "name": "python3"
  },
  "language_info": {
   "codemirror_mode": {
    "name": "ipython",
    "version": 3
   },
   "file_extension": ".py",
   "mimetype": "text/x-python",
   "name": "python",
   "nbconvert_exporter": "python",
   "pygments_lexer": "ipython3",
   "version": "3.8.5"
  }
 },
 "nbformat": 4,
 "nbformat_minor": 4
}
