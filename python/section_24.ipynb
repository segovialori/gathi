{
 "cells": [
  {
   "cell_type": "markdown",
   "metadata": {},
   "source": [
    "# Section 24"
   ]
  },
  {
   "cell_type": "markdown",
   "metadata": {},
   "source": [
    "## Automate Unit Testing"
   ]
  },
  {
   "cell_type": "code",
   "execution_count": 1,
   "metadata": {},
   "outputs": [],
   "source": [
    "def my_func(x, y, z):\n",
    "    return x, y, z"
   ]
  },
  {
   "cell_type": "code",
   "execution_count": null,
   "metadata": {},
   "outputs": [],
   "source": [
    "def test_result1():\n",
    "    assert my_func(1, 2, 3) == 5"
   ]
  },
  {
   "cell_type": "code",
   "execution_count": null,
   "metadata": {},
   "outputs": [],
   "source": [
    "def my_exception():\n",
    "    div = 10/0\n",
    "    return div\n",
    "def test_result1():\n",
    "    with pytest.raises(ZeroDivisionError):\n",
    "        my_exception()"
   ]
  },
  {
   "cell_type": "code",
   "execution_count": null,
   "metadata": {},
   "outputs": [],
   "source": [
    "#Installing pytest in Windows\n",
    "#https://docs.pytest.org/en/latest/getting-started.html\n",
    "pip install pytest\n",
    " \n",
    "#Installing pytest in macOS\n",
    "#https://docs.pytest.org/en/latest/getting-started.html\n",
    "pip3 install pytest\n",
    " \n",
    "#Check the version of pytest currently installed\n",
    "pytest --version\n",
    " \n",
    "#Getting help\n",
    "pytest --help\n",
    " \n",
    "#Invoking the command line script\n",
    "pytest [...]\n",
    " \n",
    "#Invoking pytest from the command line\n",
    "python -m pytest [...]\n",
    " \n",
    "#Invoking pytest from Python code\n",
    "pytest.main([arg1, arg2])\n",
    " \n",
    "#Running pytest can result in six different exit codes:\n",
    "#(source: https://docs.pytest.org/en/latest/usage.html#possible-exit-codes)\n",
    "#Exit code 0:\tAll tests were collected and passed successfully\n",
    "#Exit code 1:\tTests were collected and run but some of the tests failed\n",
    "#Exit code 2:\tTest execution was interrupted by the user\n",
    "#Exit code 3:\tInternal error happened while executing tests\n",
    "#Exit code 4:\tpytest command line usage error\n",
    "#Exit code 5:\tNo tests were collected\n",
    " \n",
    "#Running the tests in a module\n",
    "pytest test_module.py\n",
    " \n",
    "#Running the tests in a folder\n",
    "pytest D:\\testing\n",
    " \n",
    "#Displaying a short summary at the end of the test session\n",
    "#(more info: https://docs.pytest.org/en/latest/usage.html#detailed-summary-report)\n",
    "pytest -r basic.py #short summary\n",
    "pytest -v basic.py #increase verbosity (level of details in the output)\n",
    "pytest -q basic.py #decrease verbosity (level of details in the output)\n",
    "pytest --disable-warning basic.py #disable warnings summary\n",
    "pytest -rf basic.py #see a short test summary for failed tests\n",
    "pytest -rp basic.py #see a short test summary for passed tests\n",
    "pytest -rE basic.py #see a short test summary for errors\n",
    " \n",
    "#Running your first basic test\n",
    "def my_func(x, y, z):\n",
    "    return x + y + z\n",
    "    \n",
    "def test_result1():\n",
    "    assert my_func(1, 2, 3) == 5\n",
    " \n",
    "#cmd: first, move to the folder containing the test\n",
    "#cmd: D:\\basic>pytest basic.py\n",
    " \n",
    "#Asserting that an exception is raised\n",
    "import pytest\n",
    " \n",
    "def my_exception():\n",
    "    div = 10 / 0\n",
    "    return div\n",
    "    \n",
    "def test_result3():\n",
    "    with pytest.raises(ZeroDivisionError):\n",
    "        my_exception()\n",
    " \n",
    "#cmd: first, move to the folder containing the test\n",
    "#cmd: D:\\basic>pytest basic.py"
   ]
  },
  {
   "cell_type": "code",
   "execution_count": null,
   "metadata": {},
   "outputs": [],
   "source": []
  },
  {
   "cell_type": "code",
   "execution_count": null,
   "metadata": {},
   "outputs": [],
   "source": []
  },
  {
   "cell_type": "code",
   "execution_count": null,
   "metadata": {},
   "outputs": [],
   "source": []
  },
  {
   "cell_type": "code",
   "execution_count": null,
   "metadata": {},
   "outputs": [],
   "source": []
  },
  {
   "cell_type": "code",
   "execution_count": null,
   "metadata": {},
   "outputs": [],
   "source": []
  },
  {
   "cell_type": "code",
   "execution_count": null,
   "metadata": {},
   "outputs": [],
   "source": []
  },
  {
   "cell_type": "code",
   "execution_count": null,
   "metadata": {},
   "outputs": [],
   "source": []
  },
  {
   "cell_type": "code",
   "execution_count": null,
   "metadata": {},
   "outputs": [],
   "source": []
  },
  {
   "cell_type": "code",
   "execution_count": null,
   "metadata": {},
   "outputs": [],
   "source": []
  },
  {
   "cell_type": "code",
   "execution_count": null,
   "metadata": {},
   "outputs": [],
   "source": []
  },
  {
   "cell_type": "code",
   "execution_count": null,
   "metadata": {},
   "outputs": [],
   "source": []
  },
  {
   "cell_type": "code",
   "execution_count": null,
   "metadata": {},
   "outputs": [],
   "source": []
  },
  {
   "cell_type": "code",
   "execution_count": null,
   "metadata": {},
   "outputs": [],
   "source": []
  },
  {
   "cell_type": "code",
   "execution_count": null,
   "metadata": {},
   "outputs": [],
   "source": []
  },
  {
   "cell_type": "code",
   "execution_count": null,
   "metadata": {},
   "outputs": [],
   "source": []
  }
 ],
 "metadata": {
  "kernelspec": {
   "display_name": "Python 3",
   "language": "python",
   "name": "python3"
  },
  "language_info": {
   "codemirror_mode": {
    "name": "ipython",
    "version": 3
   },
   "file_extension": ".py",
   "mimetype": "text/x-python",
   "name": "python",
   "nbconvert_exporter": "python",
   "pygments_lexer": "ipython3",
   "version": "3.8.5"
  }
 },
 "nbformat": 4,
 "nbformat_minor": 4
}
